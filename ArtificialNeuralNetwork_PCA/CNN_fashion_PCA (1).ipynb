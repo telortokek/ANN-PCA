{
  "nbformat": 4,
  "nbformat_minor": 0,
  "metadata": {
    "colab": {
      "name": "CNN_fashion_PCA.ipynb",
      "provenance": [],
      "collapsed_sections": []
    },
    "kernelspec": {
      "display_name": "Python 3",
      "name": "python3"
    },
    "language_info": {
      "name": "python"
    },
    "accelerator": "GPU"
  },
  "cells": [
    {
      "cell_type": "code",
      "metadata": {
        "id": "S-tTjF0e_cP7"
      },
      "source": [
        "from keras.datasets import mnist\n",
        "from sklearn.preprocessing import StandardScaler\n",
        "import tensorflow as tf\n",
        "#download mnist fashion data and split into train and test sets\n",
        "(X_train, y_train), (X_test, y_test) = tf.keras.datasets.fashion_mnist.load_data()"
      ],
      "execution_count": 1,
      "outputs": []
    },
    {
      "cell_type": "code",
      "metadata": {
        "colab": {
          "base_uri": "https://localhost:8080/"
        },
        "id": "1bPghKbAVQzZ",
        "outputId": "2b0cf275-7118-4c7f-a793-e5951209b903"
      },
      "source": [
        "X_train.shape"
      ],
      "execution_count": 2,
      "outputs": [
        {
          "output_type": "execute_result",
          "data": {
            "text/plain": [
              "(60000, 28, 28)"
            ]
          },
          "metadata": {
            "tags": []
          },
          "execution_count": 2
        }
      ]
    },
    {
      "cell_type": "code",
      "metadata": {
        "colab": {
          "base_uri": "https://localhost:8080/",
          "height": 282
        },
        "id": "IfM1dsx7heek",
        "outputId": "c096d10c-4871-4a0f-99cd-dd7534e9d481"
      },
      "source": [
        "import matplotlib.pyplot as plt\n",
        "#plot the first image in the dataset\n",
        "plt.imshow(X_train[0])"
      ],
      "execution_count": 3,
      "outputs": [
        {
          "output_type": "execute_result",
          "data": {
            "text/plain": [
              "<matplotlib.image.AxesImage at 0x7fe0a6f8fbd0>"
            ]
          },
          "metadata": {
            "tags": []
          },
          "execution_count": 3
        },
        {
          "output_type": "display_data",
          "data": {
            "image/png": "[encoded data removed]",
            "text/plain": [
              "<Figure size 432x288 with 1 Axes>"
            ]
          },
          "metadata": {
            "tags": [],
            "needs_background": "light"
          }
        }
      ]
    },
    {
      "cell_type": "code",
      "metadata": {
        "colab": {
          "base_uri": "https://localhost:8080/"
        },
        "id": "XtPRyYv_hkNg",
        "outputId": "76096dc0-9f4d-4525-94e6-fd3b4520edd1"
      },
      "source": [
        "from tensorflow.keras.utils import to_categorical\n",
        "#one-hot encode target column\n",
        "y_train = to_categorical(y_train)\n",
        "y_test = to_categorical(y_test)\n",
        "y_train[0]"
      ],
      "execution_count": 4,
      "outputs": [
        {
          "output_type": "execute_result",
          "data": {
            "text/plain": [
              "array([0., 0., 0., 0., 0., 0., 0., 0., 0., 1.], dtype=float32)"
            ]
          },
          "metadata": {
            "tags": []
          },
          "execution_count": 4
        }
      ]
    },
    {
      "cell_type": "code",
      "metadata": {
        "id": "gWFx-Rt1MWHt"
      },
      "source": [
        "#normalization\n",
        "\n",
        "scaler = StandardScaler()\n",
        "X_train = scaler.fit_transform(X_train.reshape(60000,-1))\n",
        "X_test = scaler.fit_transform(X_test.reshape(10000,-1))"
      ],
      "execution_count": 5,
      "outputs": []
    },
    {
      "cell_type": "code",
      "metadata": {
        "colab": {
          "base_uri": "https://localhost:8080/"
        },
        "id": "_nb2KEjzVqPh",
        "outputId": "deb045d1-8782-4f29-e0fa-50d296c1fdfe"
      },
      "source": [
        "X_train.shape"
      ],
      "execution_count": 6,
      "outputs": [
        {
          "output_type": "execute_result",
          "data": {
            "text/plain": [
              "(60000, 784)"
            ]
          },
          "metadata": {
            "tags": []
          },
          "execution_count": 6
        }
      ]
    },
    {
      "cell_type": "code",
      "metadata": {
        "id": "edPQVNEHPSZ7"
      },
      "source": [
        "from sklearn.decomposition import PCA\n",
        "\n",
        "pca = PCA(n_components=676) # The feature is reduced from 28 to 26 using PCA. Therefore the n_components are 26 x 26 = 676\n",
        "pca = pca.fit(X_train)\n",
        "X_train = pca.transform(X_train)\n",
        "X_test = pca.transform(X_test)\n",
        "\n",
        "# X_train and x_test must be reshaped back to 2 Dimensional matrix to fit the model (Conv2D)\n",
        "\n",
        "X_train = X_train.reshape(-1,26,26,1)\n",
        "X_test = X_test.reshape(-1,26,26,1) "
      ],
      "execution_count": 7,
      "outputs": []
    },
    {
      "cell_type": "code",
      "metadata": {
        "colab": {
          "base_uri": "https://localhost:8080/"
        },
        "id": "g38lFdLL_7ds",
        "outputId": "ef64e8f2-c70b-4688-d025-eb5646d6c1ec"
      },
      "source": [
        "#check image shape\n",
        "X_train.shape"
      ],
      "execution_count": 8,
      "outputs": [
        {
          "output_type": "execute_result",
          "data": {
            "text/plain": [
              "(60000, 26, 26, 1)"
            ]
          },
          "metadata": {
            "tags": []
          },
          "execution_count": 8
        }
      ]
    },
    {
      "cell_type": "code",
      "metadata": {
        "id": "8YQzQ9CxE1mX"
      },
      "source": [
        "from keras.models import Sequential\n",
        "from keras.layers import Dense, Conv2D, Flatten\n",
        "\n",
        "#create model => Sequential() allows us to build a model layer by layer\n",
        "model = Sequential()\n",
        "\n",
        "#add model layers\n",
        "model.add(Conv2D(64, kernel_size=3, activation='relu', input_shape=(26,26,1))) # Conv2D because the features is in pixel which is 2d and input shape is 26 (deducted from 28 becoz pca)\n",
        "model.add(Conv2D(32, kernel_size=3, activation='relu'))\n",
        "model.add(Flatten())\n",
        "model.add(Dense(10, activation='softmax')) #Softmax biasa digunakan pada multiclass variable dan bisa menghasilkan output beragam antara 0 dan 1"
      ],
      "execution_count": 9,
      "outputs": []
    },
    {
      "cell_type": "code",
      "metadata": {
        "id": "SWwrDkarFrIJ"
      },
      "source": [
        "#compile model using accuracy to measure model performance\n",
        "model.compile(optimizer='adam', loss='categorical_crossentropy', metrics=['accuracy'])"
      ],
      "execution_count": 10,
      "outputs": []
    },
    {
      "cell_type": "code",
      "metadata": {
        "id": "cOgmQeb2bLKn"
      },
      "source": [
        "#Validation testing\n",
        "from sklearn.model_selection import train_test_split\n",
        "x_test, x_validation, y_test, y_validation = train_test_split(X_test, y_test, test_size=0.33, random_state=0)"
      ],
      "execution_count": 11,
      "outputs": []
    },
    {
      "cell_type": "code",
      "metadata": {
        "colab": {
          "base_uri": "https://localhost:8080/"
        },
        "id": "PUlWDWeIwdm6",
        "outputId": "59a70528-9c5f-4620-8b9e-59349c957f38"
      },
      "source": [
        "model.fit(X_train, y_train, validation_data=(x_validation, y_validation), epochs=15)"
      ],
      "execution_count": 12,
      "outputs": [
        {
          "output_type": "stream",
          "text": [
            "Epoch 1/15\n",
            "1875/1875 [==============================] - 20s 4ms/step - loss: 0.6075 - accuracy: 0.7986 - val_loss: 0.3965 - val_accuracy: 0.8564\n",
            "Epoch 2/15\n",
            "1875/1875 [==============================] - 7s 4ms/step - loss: 0.2793 - accuracy: 0.9024 - val_loss: 0.3712 - val_accuracy: 0.8730\n",
            "Epoch 3/15\n",
            "1875/1875 [==============================] - 7s 4ms/step - loss: 0.1805 - accuracy: 0.9360 - val_loss: 0.4016 - val_accuracy: 0.8715\n",
            "Epoch 4/15\n",
            "1875/1875 [==============================] - 7s 4ms/step - loss: 0.1191 - accuracy: 0.9581 - val_loss: 0.4794 - val_accuracy: 0.8691\n",
            "Epoch 5/15\n",
            "1875/1875 [==============================] - 7s 4ms/step - loss: 0.0865 - accuracy: 0.9712 - val_loss: 0.5715 - val_accuracy: 0.8688\n",
            "Epoch 6/15\n",
            "1875/1875 [==============================] - 7s 4ms/step - loss: 0.0594 - accuracy: 0.9798 - val_loss: 0.7323 - val_accuracy: 0.8639\n",
            "Epoch 7/15\n",
            "1875/1875 [==============================] - 7s 4ms/step - loss: 0.0508 - accuracy: 0.9818 - val_loss: 0.8280 - val_accuracy: 0.8673\n",
            "Epoch 8/15\n",
            "1875/1875 [==============================] - 7s 4ms/step - loss: 0.0401 - accuracy: 0.9867 - val_loss: 0.8428 - val_accuracy: 0.8661\n",
            "Epoch 9/15\n",
            "1875/1875 [==============================] - 7s 4ms/step - loss: 0.0281 - accuracy: 0.9907 - val_loss: 0.9889 - val_accuracy: 0.8624\n",
            "Epoch 10/15\n",
            "1875/1875 [==============================] - 7s 4ms/step - loss: 0.0348 - accuracy: 0.9897 - val_loss: 0.9896 - val_accuracy: 0.8618\n",
            "Epoch 11/15\n",
            "1875/1875 [==============================] - 7s 4ms/step - loss: 0.0252 - accuracy: 0.9915 - val_loss: 1.1023 - val_accuracy: 0.8579\n",
            "Epoch 12/15\n",
            "1875/1875 [==============================] - 7s 4ms/step - loss: 0.0220 - accuracy: 0.9923 - val_loss: 1.1772 - val_accuracy: 0.8606\n",
            "Epoch 13/15\n",
            "1875/1875 [==============================] - 7s 4ms/step - loss: 0.0251 - accuracy: 0.9922 - val_loss: 1.2114 - val_accuracy: 0.8588\n",
            "Epoch 14/15\n",
            "1875/1875 [==============================] - 7s 4ms/step - loss: 0.0252 - accuracy: 0.9917 - val_loss: 1.2301 - val_accuracy: 0.8655\n",
            "Epoch 15/15\n",
            "1875/1875 [==============================] - 7s 4ms/step - loss: 0.0228 - accuracy: 0.9928 - val_loss: 1.3122 - val_accuracy: 0.8627\n"
          ],
          "name": "stdout"
        },
        {
          "output_type": "execute_result",
          "data": {
            "text/plain": [
              "<keras.callbacks.History at 0x7fe090317790>"
            ]
          },
          "metadata": {
            "tags": []
          },
          "execution_count": 12
        }
      ]
    },
    {
      "cell_type": "code",
      "metadata": {
        "id": "rno5AsWZwlSI"
      },
      "source": [
        "#predict images in the test set\n",
        "model = model.predict(x_test)\n",
        "#if the predicted model has a value greater than 0.5, then it will be converted to int 1 or so if it's lesser it will become 0\n",
        "prediction = (model > 0.5).astype(int)"
      ],
      "execution_count": 13,
      "outputs": []
    },
    {
      "cell_type": "code",
      "metadata": {
        "colab": {
          "base_uri": "https://localhost:8080/"
        },
        "id": "DRo44_HDc78s",
        "outputId": "9a3ae295-4b0a-4cd1-cc85-b461379f49cc"
      },
      "source": [
        "prediction"
      ],
      "execution_count": 14,
      "outputs": [
        {
          "output_type": "execute_result",
          "data": {
            "text/plain": [
              "array([[0, 0, 0, ..., 0, 1, 0],\n",
              "       [0, 0, 0, ..., 0, 0, 0],\n",
              "       [0, 0, 0, ..., 1, 0, 0],\n",
              "       ...,\n",
              "       [1, 0, 0, ..., 0, 0, 0],\n",
              "       [0, 0, 0, ..., 0, 0, 1],\n",
              "       [0, 0, 0, ..., 0, 0, 0]])"
            ]
          },
          "metadata": {
            "tags": []
          },
          "execution_count": 14
        }
      ]
    },
    {
      "cell_type": "code",
      "metadata": {
        "colab": {
          "base_uri": "https://localhost:8080/"
        },
        "id": "e8HFzJTdCx6X",
        "outputId": "b1b081f9-cba1-42ac-d0df-8fc16ae8df24"
      },
      "source": [
        "#actual results for the images in test set\n",
        "y_test"
      ],
      "execution_count": 15,
      "outputs": [
        {
          "output_type": "execute_result",
          "data": {
            "text/plain": [
              "array([[0., 0., 0., ..., 0., 0., 0.],\n",
              "       [0., 0., 0., ..., 0., 0., 0.],\n",
              "       [0., 0., 0., ..., 1., 0., 0.],\n",
              "       ...,\n",
              "       [1., 0., 0., ..., 0., 0., 0.],\n",
              "       [0., 0., 0., ..., 0., 0., 1.],\n",
              "       [0., 0., 0., ..., 0., 0., 0.]], dtype=float32)"
            ]
          },
          "metadata": {
            "tags": []
          },
          "execution_count": 15
        }
      ]
    },
    {
      "cell_type": "code",
      "metadata": {
        "id": "DweZCbjdCyQS",
        "colab": {
          "base_uri": "https://localhost:8080/"
        },
        "outputId": "f5653b9a-99f9-4e9c-de37-2db8d68c253d"
      },
      "source": [
        "from sklearn.metrics import accuracy_score\n",
        "accuracy_score(y_test, prediction)\n",
        "\n",
        "#Therefore the accuracy of this training model is 86%"
      ],
      "execution_count": 16,
      "outputs": [
        {
          "output_type": "execute_result",
          "data": {
            "text/plain": [
              "0.8632835820895522"
            ]
          },
          "metadata": {
            "tags": []
          },
          "execution_count": 16
        }
      ]
    },
    {
      "cell_type": "markdown",
      "metadata": {
        "id": "tU7hFyCHqOQi"
      },
      "source": [
        "**Kesimpulan** \n",
        "\n",
        "Model yang mengimplementasikan PCA harusnya memiliki akurasi yang lebih besar. Pada kasus ini, saya sebelumnya mendapatkan akurasi yang lebih kecil daripada model tanpa PCA yaitu 59%. Hal ini terjadi karena dikarenakan saya memasang PCA pada x_train dan x_test sekaligus (fit_transform). Hal ini membuat kita menggunakan parameter yang salah pada saat pengklasifikasian. "
      ]
    }
  ]
}