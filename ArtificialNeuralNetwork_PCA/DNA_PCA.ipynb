{
  "nbformat": 4,
  "nbformat_minor": 0,
  "metadata": {
    "colab": {
      "name": "DNA_PCA.ipynb",
      "provenance": [],
      "collapsed_sections": []
    },
    "kernelspec": {
      "name": "python3",
      "display_name": "Python 3"
    },
    "language_info": {
      "name": "python"
    }
  },
  "cells": [
    {
      "cell_type": "code",
      "metadata": {
        "id": "Mo-N1ePF4XIU"
      },
      "source": [
        "import pandas as pd\n",
        "import tensorflow as tf\n",
        "import numpy as np"
      ],
      "execution_count": null,
      "outputs": []
    },
    {
      "cell_type": "code",
      "metadata": {
        "id": "SzIuTH_54pcZ"
      },
      "source": [
        "dataset = pd.read_csv('rawdata.csv')"
      ],
      "execution_count": null,
      "outputs": []
    },
    {
      "cell_type": "code",
      "metadata": {
        "id": "9DCxjx414zNF"
      },
      "source": [
        "y = np.asarray(dataset['STATUS'])\n",
        "x = (dataset.drop('STATUS',1))\n",
        "x = np.asarray(x.drop('SAMPLE_ID',1))"
      ],
      "execution_count": null,
      "outputs": []
    },
    {
      "cell_type": "code",
      "metadata": {
        "colab": {
          "base_uri": "https://localhost:8080/"
        },
        "id": "h_eer2aX42_r",
        "outputId": "74f9bf2a-292f-4006-f09d-f9dfbec9502a"
      },
      "source": [
        "for i in range(0,len(y)):\n",
        "  y[i] = y[i]-1 \n",
        "y"
      ],
      "execution_count": null,
      "outputs": [
        {
          "output_type": "execute_result",
          "data": {
            "text/plain": [
              "array([0, 1, 1, 1, 0, 1, 1, 0, 0, 0, 1, 0, 0, 0, 0, 0, 1, 1, 1, 0, 1, 1,\n",
              "       1, 1, 1, 0, 1, 0, 1, 0, 1, 0, 0, 1, 0, 0, 1, 1, 1, 0, 0, 1, 1, 0,\n",
              "       0, 1, 0, 1, 1, 0, 0, 1, 1, 0, 0, 0, 0, 1, 0, 1, 0, 1, 0, 0, 1, 1,\n",
              "       1, 1, 1, 0, 0, 1, 0, 0, 0, 1, 0, 1, 1, 0, 1, 0, 1, 1, 1, 1, 0, 0,\n",
              "       1])"
            ]
          },
          "metadata": {
            "tags": []
          },
          "execution_count": 4
        }
      ]
    },
    {
      "cell_type": "code",
      "metadata": {
        "id": "aHY8RgVf44le"
      },
      "source": [
        "from sklearn.model_selection import train_test_split\n",
        "x_train, x_test, y_train, y_test = train_test_split(x, y, test_size = 0.2, random_state=0)\n",
        "x_test, x_validation, y_test, y_validation = train_test_split(x_test, y_test, test_size=0.33, random_state=0)"
      ],
      "execution_count": null,
      "outputs": []
    },
    {
      "cell_type": "code",
      "metadata": {
        "colab": {
          "base_uri": "https://localhost:8080/"
        },
        "id": "g3B4XshO46sz",
        "outputId": "a00cdd8a-9340-416d-e28f-84a02bad63e6"
      },
      "source": [
        "x_train.shape"
      ],
      "execution_count": null,
      "outputs": [
        {
          "output_type": "execute_result",
          "data": {
            "text/plain": [
              "(71, 10001)"
            ]
          },
          "metadata": {
            "tags": []
          },
          "execution_count": 6
        }
      ]
    },
    {
      "cell_type": "code",
      "metadata": {
        "id": "j-_vlBZw48y2"
      },
      "source": [
        "from sklearn.decomposition import PCA\n",
        "\n",
        "pca = PCA(n_components=64)\n",
        "pca = pca.fit(x_train)\n",
        "x_train = pca.transform(x_train)\n",
        "x_test = pca.transform(x_test)\n",
        "x_validation = pca.transform(x_validation)"
      ],
      "execution_count": null,
      "outputs": []
    },
    {
      "cell_type": "code",
      "metadata": {
        "id": "kmv7LnUv51Tt"
      },
      "source": [
        "x_train = x_train.reshape(-1,64,1)\n",
        "x_test = x_test.reshape(-1,64,1)\n",
        "x_validation = x_validation.reshape(-1,64,1)"
      ],
      "execution_count": null,
      "outputs": []
    },
    {
      "cell_type": "code",
      "metadata": {
        "colab": {
          "base_uri": "https://localhost:8080/"
        },
        "id": "xo3rICnQ83cN",
        "outputId": "7d89f420-4828-44b7-bbff-dbb9f4e673a2"
      },
      "source": [
        "#check shape\n",
        "x_test.shape"
      ],
      "execution_count": null,
      "outputs": [
        {
          "output_type": "execute_result",
          "data": {
            "text/plain": [
              "(12, 64, 1)"
            ]
          },
          "metadata": {
            "tags": []
          },
          "execution_count": 9
        }
      ]
    },
    {
      "cell_type": "code",
      "metadata": {
        "id": "w7PX4mRr9Icr"
      },
      "source": [
        "from keras.models import Sequential\n",
        "from keras.layers import Dense, Conv1D, Flatten\n",
        "#create model\n",
        "model = Sequential()\n",
        "#add model layers\n",
        "model.add(Conv1D(64, kernel_size=3, activation='relu',input_shape=(64,1)))\n",
        "model.add(Conv1D(32, kernel_size=3, activation='relu'))\n",
        "model.add(Flatten())\n",
        "model.add(Dense(1, activation='sigmoid'))"
      ],
      "execution_count": null,
      "outputs": []
    },
    {
      "cell_type": "code",
      "metadata": {
        "id": "BJny7rjH9Lfk"
      },
      "source": [
        "#compile model using accuracy to measure model performance\n",
        "model.compile(optimizer='adam', loss='binary_crossentropy', metrics=['accuracy'])"
      ],
      "execution_count": null,
      "outputs": []
    },
    {
      "cell_type": "code",
      "metadata": {
        "colab": {
          "base_uri": "https://localhost:8080/"
        },
        "id": "nsAE5QGj9ORQ",
        "outputId": "fb9cbef8-ee9d-4ab8-a808-5265fecf1018"
      },
      "source": [
        "#train the model\n",
        "model.fit(x_train, y_train, validation_data=(x_validation, y_validation), epochs=15)"
      ],
      "execution_count": null,
      "outputs": [
        {
          "output_type": "stream",
          "text": [
            "Epoch 1/15\n",
            "3/3 [==============================] - 15s 279ms/step - loss: 0.7304 - accuracy: 0.5121 - val_loss: 0.7168 - val_accuracy: 0.3333\n",
            "Epoch 2/15\n",
            "3/3 [==============================] - 0s 15ms/step - loss: 0.6354 - accuracy: 0.7115 - val_loss: 0.7221 - val_accuracy: 0.3333\n",
            "Epoch 3/15\n",
            "3/3 [==============================] - 0s 16ms/step - loss: 0.5618 - accuracy: 0.8194 - val_loss: 0.7278 - val_accuracy: 0.3333\n",
            "Epoch 4/15\n",
            "3/3 [==============================] - 0s 16ms/step - loss: 0.5185 - accuracy: 0.8780 - val_loss: 0.7321 - val_accuracy: 0.0000e+00\n",
            "Epoch 5/15\n",
            "3/3 [==============================] - 0s 15ms/step - loss: 0.4689 - accuracy: 0.9109 - val_loss: 0.7345 - val_accuracy: 0.0000e+00\n",
            "Epoch 6/15\n",
            "3/3 [==============================] - 0s 16ms/step - loss: 0.4295 - accuracy: 0.9515 - val_loss: 0.7353 - val_accuracy: 0.3333\n",
            "Epoch 7/15\n",
            "3/3 [==============================] - 0s 16ms/step - loss: 0.3895 - accuracy: 0.9672 - val_loss: 0.7368 - val_accuracy: 0.3333\n",
            "Epoch 8/15\n",
            "3/3 [==============================] - 0s 15ms/step - loss: 0.3550 - accuracy: 0.9703 - val_loss: 0.7432 - val_accuracy: 0.1667\n",
            "Epoch 9/15\n",
            "3/3 [==============================] - 0s 15ms/step - loss: 0.3148 - accuracy: 0.9812 - val_loss: 0.7505 - val_accuracy: 0.0000e+00\n",
            "Epoch 10/15\n",
            "3/3 [==============================] - 0s 16ms/step - loss: 0.2687 - accuracy: 1.0000 - val_loss: 0.7556 - val_accuracy: 0.3333\n",
            "Epoch 11/15\n",
            "3/3 [==============================] - 0s 16ms/step - loss: 0.2335 - accuracy: 1.0000 - val_loss: 0.7637 - val_accuracy: 0.3333\n",
            "Epoch 12/15\n",
            "3/3 [==============================] - 0s 14ms/step - loss: 0.2064 - accuracy: 0.9891 - val_loss: 0.7642 - val_accuracy: 0.3333\n",
            "Epoch 13/15\n",
            "3/3 [==============================] - 0s 15ms/step - loss: 0.1784 - accuracy: 1.0000 - val_loss: 0.7609 - val_accuracy: 0.0000e+00\n",
            "Epoch 14/15\n",
            "3/3 [==============================] - 0s 15ms/step - loss: 0.1409 - accuracy: 1.0000 - val_loss: 0.7595 - val_accuracy: 0.3333\n",
            "Epoch 15/15\n",
            "3/3 [==============================] - 0s 15ms/step - loss: 0.1328 - accuracy: 1.0000 - val_loss: 0.7606 - val_accuracy: 0.5000\n"
          ],
          "name": "stdout"
        },
        {
          "output_type": "execute_result",
          "data": {
            "text/plain": [
              "<keras.callbacks.History at 0x7fd4c551f450>"
            ]
          },
          "metadata": {
            "tags": []
          },
          "execution_count": 12
        }
      ]
    },
    {
      "cell_type": "code",
      "metadata": {
        "id": "fg4nnsIz9Pi3"
      },
      "source": [
        "#predict images in the test set\n",
        "model = model.predict(x_test)"
      ],
      "execution_count": null,
      "outputs": []
    },
    {
      "cell_type": "code",
      "metadata": {
        "colab": {
          "base_uri": "https://localhost:8080/"
        },
        "id": "D5GbNj7s92K3",
        "outputId": "2e8bdbc1-9381-4976-a733-b90b2632becb"
      },
      "source": [
        "model"
      ],
      "execution_count": null,
      "outputs": [
        {
          "output_type": "execute_result",
          "data": {
            "text/plain": [
              "array([[0.5319562 ],\n",
              "       [0.35720566],\n",
              "       [0.43457156],\n",
              "       [0.6789144 ],\n",
              "       [0.550798  ],\n",
              "       [0.5782026 ],\n",
              "       [0.45448235],\n",
              "       [0.4109679 ],\n",
              "       [0.5134526 ],\n",
              "       [0.47348046],\n",
              "       [0.44846782],\n",
              "       [0.6090087 ]], dtype=float32)"
            ]
          },
          "metadata": {
            "tags": []
          },
          "execution_count": 14
        }
      ]
    },
    {
      "cell_type": "code",
      "metadata": {
        "colab": {
          "base_uri": "https://localhost:8080/"
        },
        "id": "8_daAoOm9zAl",
        "outputId": "0c91d047-d828-4a82-d62f-e1d9679ed73a"
      },
      "source": [
        "#if the predicted model has a value greater than 0.5, then it will be converted to int 1 or so if it's lesser it will become 0\n",
        "prediction = (model > 0.5).astype(int)\n",
        "prediction"
      ],
      "execution_count": null,
      "outputs": [
        {
          "output_type": "execute_result",
          "data": {
            "text/plain": [
              "array([[1],\n",
              "       [0],\n",
              "       [0],\n",
              "       [1],\n",
              "       [1],\n",
              "       [1],\n",
              "       [0],\n",
              "       [0],\n",
              "       [1],\n",
              "       [0],\n",
              "       [0],\n",
              "       [1]])"
            ]
          },
          "metadata": {
            "tags": []
          },
          "execution_count": 15
        }
      ]
    },
    {
      "cell_type": "code",
      "metadata": {
        "colab": {
          "base_uri": "https://localhost:8080/"
        },
        "id": "RgCvWRaJ94P5",
        "outputId": "1ed8cfcb-d412-4741-e95d-37697c66173b"
      },
      "source": [
        "#actual results for the images in test set\n",
        "y_test"
      ],
      "execution_count": null,
      "outputs": [
        {
          "output_type": "execute_result",
          "data": {
            "text/plain": [
              "array([1, 1, 0, 0, 1, 1, 1, 1, 0, 0, 0, 1])"
            ]
          },
          "metadata": {
            "tags": []
          },
          "execution_count": 16
        }
      ]
    },
    {
      "cell_type": "code",
      "metadata": {
        "colab": {
          "base_uri": "https://localhost:8080/"
        },
        "id": "0vENR8AI96qf",
        "outputId": "8c06f19c-aa00-4681-c8e7-9df3111b13c3"
      },
      "source": [
        "from sklearn.metrics import accuracy_score\n",
        "accuracy_score(y_test, prediction)"
      ],
      "execution_count": null,
      "outputs": [
        {
          "output_type": "execute_result",
          "data": {
            "text/plain": [
              "0.5833333333333334"
            ]
          },
          "metadata": {
            "tags": []
          },
          "execution_count": 17
        }
      ]
    }
  ]
}